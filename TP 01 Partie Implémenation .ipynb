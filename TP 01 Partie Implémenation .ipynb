{
 "cells": [
  {
   "cell_type": "markdown",
   "id": "749024f8",
   "metadata": {},
   "source": [
    "<h1 style=\"padding: 8px;color:white; display:fill;background-color:#4683B7; border-radius:6px; font-size:300%\"><b> Introduction aux réseaux de neurones</b></h1>"
   ]
  },
  {
   "cell_type": "markdown",
   "id": "8acb802a",
   "metadata": {},
   "source": [
    "### Réalisé par : GHALIM Nidal | HAMID Hajar | LAHOUIRI Hayat | NACIRI Nacira"
   ]
  },
  {
   "cell_type": "markdown",
   "id": "90a66f32",
   "metadata": {},
   "source": [
    "### Encadré par : Mr KHALFI"
   ]
  },
  {
   "cell_type": "code",
   "execution_count": 23,
   "id": "e77e22d6",
   "metadata": {},
   "outputs": [],
   "source": [
    "#Importation des bibliothèques\n",
    "import torch\n",
    "import torch.nn as nn\n",
    "import torch.optim as optim\n",
    "import torchvision.transforms as transforms\n",
    "from torchvision.datasets import MNIST\n",
    "from torch.utils.data import DataLoader, random_split"
   ]
  },
  {
   "cell_type": "markdown",
   "id": "029bfef3",
   "metadata": {},
   "source": [
    "### 2.1 Forward et backward manuels"
   ]
  },
  {
   "cell_type": "markdown",
   "id": "1d663b47",
   "metadata": {},
   "source": [
    "### La fonction init_params(nx, nh, ny) :"
   ]
  },
  {
   "cell_type": "markdown",
   "id": "0474dfe1",
   "metadata": {},
   "source": [
    "La fonction init_params initialise les poids (Wx et Wy) et les biais bx et by) d'un réseau de neurones à l'aide d'une distribution normale avec une moyenne de zéro et un écart-type de 0.3.\n",
    "\n",
    "Les poids sont initialisés avec des valeurs aléatoires, tandis que les biais sont initialisés à zéro. Les paramètres sont stockés dans un dictionnaire params."
   ]
  },
  {
   "cell_type": "code",
   "execution_count": 27,
   "id": "cc239ce0",
   "metadata": {},
   "outputs": [],
   "source": [
    "def init_params(nx, nh, ny):\n",
    "    # Initialisation des paramètres du réseau de neurones\n",
    "\n",
    "    # Initialisation des poids de la couche d'entrée vers la couche cachée (Wx)\n",
    "    Wx = torch.randn(nh, nx) * 0.3\n",
    "    # Initialisation des biais de la couche cachée (bx)\n",
    "    bx = torch.zeros(nh, 1)\n",
    "    # Initialisation des poids de la couche cachée vers la couche de sortie (Wy)\n",
    "    Wy = torch.randn(ny, nh) * 0.3\n",
    "    # Initialisation des biais de la couche de sortie (by)\n",
    "    by = torch.zeros(ny, 1)\n",
    "    # Stockage des poids et des biais dans un dictionnaire params\n",
    "    params = {\n",
    "        'Wx': Wx,\n",
    "        'bx': bx,\n",
    "        'Wy': Wy,\n",
    "        'by': by\n",
    "    }\n",
    "    return params\n"
   ]
  },
  {
   "cell_type": "markdown",
   "id": "c1e6a2b3",
   "metadata": {},
   "source": [
    "### La fonction forward(params, X) :"
   ]
  },
  {
   "cell_type": "markdown",
   "id": "16adae87",
   "metadata": {},
   "source": [
    "Cette fonction forward effectue la propagation avant dans un réseau de neurones en calculant les étapes intermédiaires telles que les activations de la couche d'entrée (Zx) et de la couche cachée (Ax) en utilisant la fonction tangente hyperbolique (tanh). \n",
    "\n",
    "Ensuite, elle calcule l'activation de la couche de sortie (Zy) et la sortie prédite (Yhat) en appliquant une fonction softmax pour la classification. Les résultats intermédiaires sont stockés dans un dictionnaire outputs, et la fonction renvoie à la fois ces étapes intermédiaires et la prédiction finale du réseau."
   ]
  },
  {
   "cell_type": "code",
   "execution_count": 28,
   "id": "291492a7",
   "metadata": {},
   "outputs": [],
   "source": [
    "def forward(params, X):\n",
    "    # Initialisation d'un dictionnaire pour stocker les étapes intermédiaires\n",
    "    outputs = {}\n",
    "\n",
    "    # Calcul de l'activation de la couche d'entrée (Zx)\n",
    "    outputs['Zx'] = torch.mm(params['Wx'], X) + params['bx']\n",
    "\n",
    "    # Application de la fonction d'activation tanh pour la couche d'entrée (Ax)\n",
    "    outputs['Ax'] = torch.tanh(outputs['Zx'])\n",
    "\n",
    "    # Calcul de l'activation de la couche de sortie (Zy)\n",
    "    outputs['Zy'] = torch.mm(params['Wy'], outputs['Ax']) + params['by']\n",
    "\n",
    "    # Calcul de la sortie du réseau (Yhat) en appliquant une fonction softmax\n",
    "    outputs['Yhat'] = torch.exp(outputs['Zy']) / torch.sum(torch.exp(outputs['Zy']), dim=0, keepdim=True)\n",
    "\n",
    "    # Retourne à la fois les étapes intermédiaires et la sortie prédite (Yhat)\n",
    "    return outputs, outputs['Yhat']\n"
   ]
  },
  {
   "cell_type": "markdown",
   "id": "3c306d7a",
   "metadata": {},
   "source": [
    "### La fonction loss_accuracy(Yhat, Y) :"
   ]
  },
  {
   "cell_type": "markdown",
   "id": "44973790",
   "metadata": {},
   "source": [
    "La fonction loss_accuracy calcule à la fois la perte (loss) et la précision (taux de bonnes prédictions) d'un modèle de classification par rapport aux étiquettes réelles.  \n",
    "\n",
    "Elle calcule la perte en utilisant l'entropie croisée moyenne entre les prédictions du modèle (Yhat) et les étiquettes réelles (Y).\n",
    "\n",
    "Ensuite, elle détermine l'indice de la classe réelle pour chaque exemple dans Y et l'indice de la classe prédite pour chaque exemple dans Yhat.\n",
    "\n",
    "La précision est calculée en comparant les indices réels et prédits, puis en comptant combien d'entre eux sont identiques.\n",
    "\n",
    "La fonction retourne à la fois la perte (L), qui mesure la qualité des prédictions du modèle, et la précision (acc), qui indique le pourcentage d'exemples correctement classés par le modèle."
   ]
  },
  {
   "cell_type": "code",
   "execution_count": 29,
   "id": "edb71a74",
   "metadata": {},
   "outputs": [],
   "source": [
    "def loss_accuracy(Yhat, Y):\n",
    "    \"\"\" Calcul de la perte (loss) en utilisant l'entropie croisée moyenne\n",
    "     Applique la fonction log à Yhat, puis multiplie élément par élément avec Y,\n",
    "     somme les colonnes (dim=0) pour obtenir la perte pour chaque exemple,\n",
    "     et calcule la moyenne de ces pertes.\"\"\"\n",
    "    L = -torch.mean(torch.sum(Y * torch.log(Yhat), dim=0, keepdim=True))\n",
    "\n",
    "    # Trouve l'indice de la classe réelle pour chaque exemple dans Y\n",
    "    _, indsY = torch.max(Y, 1)\n",
    "    # Trouve l'indice de la classe prédite pour chaque exemple dans Yhat\n",
    "    _, indsYhat = torch.max(Yhat, 1)\n",
    "    # Calcule la précision en comparant les indices réels et prédits,\n",
    "    # compte combien d'entre eux sont identiques, puis divise par le nombre d'exemples.\n",
    "    acc = torch.sum(indsY == indsYhat) / Y.shape[1]\n",
    "\n",
    "    # Retourne la perte (L) et la précision (acc)\n",
    "    return L, acc\n",
    "\n"
   ]
  },
  {
   "cell_type": "markdown",
   "id": "544914e1",
   "metadata": {},
   "source": [
    "### La fonction backward(params, outputs, Y) :"
   ]
  },
  {
   "cell_type": "markdown",
   "id": "ebf21f43",
   "metadata": {},
   "source": [
    "La fonction backward calcule les gradients des paramètres du réseau en utilisant la rétropropagation.Elle prend en entrée trois arguments : params (un dictionnaire contenant les paramètres du réseau, tels que les poids et les biais), outputs (un dictionnaire contenant les sorties intermédiaires du réseau calculées lors de la propagation avant) et Y (les étiquettes réelles).\n",
    "\n",
    "Elle commence par calculer le gradient de la couche de sortie (dZy), qui mesure comment la perte varie en fonction des sorties de la couche de sortie.\n",
    "\n",
    "Ensuite, elle calcule le gradient de la perte par rapport aux poids et aux biais de la couche de sortie (dWy et dby) en utilisant dZy.\n",
    "\n",
    "Elle continue la rétropropagation en calculant le gradient de la couche cachée par rapport à ses entrées pondérées (dZx) en utilisant la dérivée de la fonction d'activation tangente hyperbolique (tanh).\n",
    "\n",
    "Puis, elle calcule les gradients des poids et des biais de la couche d'entrée (dWx et dbx) en utilisant dZx.\n",
    "\n",
    "Les gradients calculés sont retournés dans un dictionnaire grads, qui peut ensuite être utilisé pour mettre à jour les paramètres du réseau lors de l'entraînement."
   ]
  },
  {
   "cell_type": "code",
   "execution_count": 30,
   "id": "0620b0b0",
   "metadata": {},
   "outputs": [],
   "source": [
    "def backward(params, outputs, Y):\n",
    "    grads = {}\n",
    "\n",
    "    # Calcul du gradient de la couche de sortie (dZy)\n",
    "    grads['dZy'] = outputs['Yhat'] - Y\n",
    "\n",
    "    # Calcul du gradient de la couche de sortie par rapport à Wy (dWy)\n",
    "    grads['dWy'] = torch.mm(grads['dZy'], outputs['Ax'].t()) / Y.shape[1]\n",
    "\n",
    "    # Calcul du gradient de la couche de sortie par rapport à by (dby)\n",
    "    grads['dby'] = torch.sum(grads['dZy'], dim=1, keepdim=True) / Y.shape[1]\n",
    "\n",
    "    # Calcul du gradient de la couche cachée par rapport à Zx (dAx)\n",
    "    grads['dAx'] = torch.mm(params['Wy'].t(), grads['dZy'])\n",
    "\n",
    "    # Calcul du gradient de la couche cachée par rapport à Zx (dZx)\n",
    "    grads['dZx'] = grads['dAx'] * (1 - outputs['Ax'] ** 2)  # Dérivée de tanh\n",
    "\n",
    "    # Calcul du gradient de la couche cachée par rapport à Wx (dWx)\n",
    "    grads['dWx'] = torch.mm(grads['dZx'], outputs['X'].t()) / Y.shape[1]\n",
    "\n",
    "    # Calcul du gradient de la couche cachée par rapport à bx (dbx)\n",
    "    grads['dbx'] = torch.sum(grads['dZx'], dim=1, keepdim=True) / Y.shape[1]\n",
    "\n",
    "    return grads\n"
   ]
  },
  {
   "cell_type": "markdown",
   "id": "c73dff65",
   "metadata": {},
   "source": [
    "### La fonction sgd(params, grads, eta) :"
   ]
  },
  {
   "cell_type": "markdown",
   "id": "53d125e6",
   "metadata": {},
   "source": [
    "La fonction sgd est une implémentation de la descente de gradient stochastique (SGD), un algorithme d'optimisation couramment utilisé pour entraîner des réseaux de neurones. \n",
    "\n",
    "Elle prend en entrée trois paramètres : params (un dictionnaire de paramètres du réseau, tels que les poids et les biais), grads (un dictionnaire de gradients par rapport à ces paramètres) et eta (le taux d'apprentissage).\n",
    "\n",
    "Notre fonction itère à travers chaque paramètre du réseau.\n",
    "\n",
    "Pour chaque paramètre, elle met à jour sa valeur en soustrayant le produit du taux d'apprentissage (eta) et du gradient correspondant. Cette mise à jour permet d'ajuster les paramètres du réseau dans la direction qui minimise la perte.\n",
    "\n",
    "La descente de gradient stochastique est utilisée pour ajuster progressivement les paramètres du réseau afin d'optimiser la fonction de coût, ce qui conduit à des prédictions plus précises.\n",
    "\n",
    "En résultat, la fonction sgd met à jour les paramètres du réseau en fonction des gradients calculés, ce qui est essentiel pour l'apprentissage supervisé et l'amélioration des performances du modèle."
   ]
  },
  {
   "cell_type": "code",
   "execution_count": 31,
   "id": "83114c69",
   "metadata": {},
   "outputs": [],
   "source": [
    "def sgd(params, grads, eta):\n",
    "    # Pour chaque paramètre du réseau\n",
    "    for param_name in params:\n",
    "        # Mettre à jour le paramètre en soustrayant le produit du taux d'apprentissage (eta) et du gradient correspondant\n",
    "        params[param_name] -= eta * grads[param_name]\n"
   ]
  },
  {
   "cell_type": "markdown",
   "id": "4d9f2ecf",
   "metadata": {},
   "source": [
    "### L’algorithme global :"
   ]
  },
  {
   "cell_type": "markdown",
   "id": "2939d0d1",
   "metadata": {},
   "source": [
    "Cet algorithme qu'on a généré commence par charger ou préparer les données, initialiser les paramètres du réseau de neurones, et créer une liste pour stocker les performances du modèle. \n",
    "\n",
    "Ensuite, il effectue un certain nombre d'époques d'apprentissage, où chaque époque consiste en une itération sur les mini-batchs des données d'entraînement. À chaque itération, l'algorithme effectue un passage en avant (forward) pour calculer la perte, puis réalise la rétropropagation (backward) pour calculer les gradients et ajuster les paramètres du modèle à l'aide de la descente de gradient stochastique. Les performances du modèle sont calculées sur les données d'entraînement et de test à chaque époque, et les résultats sont affichés. \n",
    "\n",
    "Enfin, les courbes d'apprentissage sont générées pour visualiser l'évolution de la précision et de la perte au cours de l'apprentissage."
   ]
  },
  {
   "cell_type": "code",
   "execution_count": null,
   "id": "4731dd63",
   "metadata": {},
   "outputs": [],
   "source": [
    "# Charger et préparer les données avant d'appliquer l'algorithme\n",
    "\n",
    "# Initialisation des paramètres du réseau\n",
    "params = init_params(nx, nh, ny)\n",
    "\n",
    "# Liste pour stocker les performances (précision et perte) au fil de l'apprentissage\n",
    "performance_metrics = [[], [], [], []]\n",
    "\n",
    "# Boucle sur les époques d'apprentissage\n",
    "for epoch in range(150):\n",
    "\n",
    "    # Permutation des données (remplacer par le chargement de données)\n",
    "    # Exemple : perm = np.random.permutation(N)\n",
    "    # Xtrain = Xtrain[perm, :]\n",
    "    # Ytrain = Ytrain[perm, :]\n",
    "\n",
    "    # Itération sur les mini-batchs\n",
    "    for j in range(N // Nbatch):\n",
    "        batch_indices = range(j * Nbatch, (j+1) * Nbatch)\n",
    "        X_batch = Xtrain[batch_indices, :]\n",
    "        Y_batch = Ytrain[batch_indices, :]\n",
    "\n",
    "        # Passage en avant (forward), calcul de la perte et rétropropagation (backward)\n",
    "        outputs, Yhat = forward(params, X_batch)\n",
    "        loss, _ = loss_accuracy(Yhat, Y_batch)\n",
    "        gradients = backward(params, outputs, Y_batch)\n",
    "        sgd(params, gradients, eta)\n",
    "\n",
    "    # Passage en avant sur les données d'entraînement, de test et calcul des performances\n",
    "    Yhat_train, _ = forward(params, Xtrain)\n",
    "    Yhat_test, _ = forward(params, Xtest)\n",
    "    train_loss, train_accuracy = loss_accuracy(Yhat_train, Ytrain)\n",
    "    test_loss, test_accuracy = loss_accuracy(Yhat_test, Ytest)\n",
    "\n",
    "    # Affichage des performances\n",
    "    title = f'Epoch {epoch}: Train Accuracy {train_accuracy:.1f}% (Loss {train_loss:.2f}), Test Accuracy {test_accuracy:.1f}% (Loss {test_loss:.2f})'\n",
    "    print(title)\n",
    "\n",
    "    # Ajout des performances à la liste\n",
    "    performance_metrics[0].append(train_accuracy)\n",
    "    performance_metrics[1].append(test_accuracy)\n",
    "    performance_metrics[2].append(train_loss)\n",
    "    performance_metrics[3].append(test_loss)\n",
    "\n",
    "# Affichage des courbes d'apprentissage\n",
    "fig = plt.figure()\n",
    "plt.plot(performance_metrics[0], label=\"Train Accuracy\")\n",
    "plt.plot(performance_metrics[1], label=\"Test Accuracy\")\n",
    "plt.plot(performance_metrics[2], label=\"Train Loss\")\n",
    "plt.plot(performance_metrics[3], label=\"Test Loss\")\n",
    "plt.legend()\n",
    "plt.show()\n"
   ]
  },
  {
   "cell_type": "markdown",
   "id": "9808ef71",
   "metadata": {},
   "source": [
    "# 2.2 Simplification du backward avec torch.autograd"
   ]
  },
  {
   "cell_type": "markdown",
   "id": "fc6c5e0f",
   "metadata": {},
   "source": [
    "#### 1. Activation d'autograd sur les poids du réseau :"
   ]
  },
  {
   "cell_type": "markdown",
   "id": "ba51bc41",
   "metadata": {},
   "source": [
    "autograd (\"automatic differentiation\") est une composante essentielle de PyTorch qui permet le calcul automatique des gradients. \n",
    "\n",
    "Il s'agit d'un système de différenciation automatique qui est utilisé pour calculer les dérivées des opérations effectuées sur les tenseurs."
   ]
  },
  {
   "cell_type": "markdown",
   "id": "d2c0441c",
   "metadata": {},
   "source": [
    "La fontion Formward et la fonction loss_accuracy restent les mêmes, elle est inchangée par rapport à la précédente.\n",
    "Ausi, on aura pas de fonction backward à cause de l'autograd.\n",
    "Voici les 2 changements qu'on va avoir pour notre fonctions:"
   ]
  },
  {
   "cell_type": "markdown",
   "id": "fe29eb51",
   "metadata": {},
   "source": [
    "### La nouvelle fonction init_params(nx, nh, ny) pour Simplification du backward avec torch.autograd"
   ]
  },
  {
   "cell_type": "code",
   "execution_count": 33,
   "id": "7c4f0cb1",
   "metadata": {},
   "outputs": [],
   "source": [
    "def init_params(nx, nh, ny):\n",
    "    # Initialisation des paramètres du réseau de neurones\n",
    "\n",
    "    # Initialisation des poids de la couche d'entrée vers la couche cachée (Wx) avec autograd activé\n",
    "    Wx = torch.randn(nh, nx, requires_grad=True) * 0.3\n",
    "    # Initialisation des biais de la couche cachée (bx) avec autograd activé\n",
    "    bx = torch.zeros(nh, 1, requires_grad=True)\n",
    "    # Initialisation des poids de la couche cachée vers la couche de sortie (Wy) avec autograd activé\n",
    "    Wy = torch.randn(ny, nh, requires_grad=True) * 0.3\n",
    "    # Initialisation des biais de la couche de sortie (by) avec autograd activé\n",
    "    by = torch.zeros(ny, 1, requires_grad=True)\n",
    "    # Stockage des poids et des biais dans un dictionnaire params\n",
    "    params = {\n",
    "        'Wx': Wx,\n",
    "        'bx': bx,\n",
    "        'Wy': Wy,\n",
    "        'by': by\n",
    "    }\n",
    "    return params\n"
   ]
  },
  {
   "cell_type": "markdown",
   "id": "6f74366b-67da-4f2f-a72e-4b6d917aef15",
   "metadata": {},
   "source": [
    "### La nouvelle fonction sgd(params, eta)  pour Simplification du backward avec torch.autograd"
   ]
  },
  {
   "cell_type": "code",
   "execution_count": 34,
   "id": "8535e372",
   "metadata": {},
   "outputs": [],
   "source": [
    "def sgd(params, eta):\n",
    "    # Mettre à jour les poids en utilisant les gradients calculés avec autograd\n",
    "    with torch.no_grad():\n",
    "        params[\"Wh\"] -= eta * params[\"Wh\"].grad\n",
    "        params[\"Wy\"] -= eta * params[\"Wy\"].grad\n",
    "        params[\"bh\"] -= eta * params[\"bh\"].grad\n",
    "        params[\"by\"] -= eta * params[\"by\"].grad\n",
    "\n",
    "        # Remettre les accumulateurs de gradient à zéro\n",
    "        params[\"Wh\"].grad.zero_()\n",
    "        params[\"Wy\"].grad.zero_()\n",
    "        params[\"bh\"].grad.zero_()\n",
    "        params[\"by\"].grad.zero_()\n",
    "\n",
    "    return params"
   ]
  },
  {
   "cell_type": "markdown",
   "id": "15103fda",
   "metadata": {},
   "source": [
    "### Algorithme global d'apprentissage avec autograd"
   ]
  },
  {
   "cell_type": "code",
   "execution_count": null,
   "id": "c26749b7",
   "metadata": {},
   "outputs": [],
   "source": [
    "# Charger et préparer les données ici\n",
    "\n",
    "# Initialisation des paramètres du réseau\n",
    "params = init_params(nx, nh, ny)\n",
    "\n",
    "# Liste pour stocker les performances (précision et perte) au fil de l'apprentissage\n",
    "performance_metrics = [[], [], [], []]\n",
    "\n",
    "# Boucle sur les époques d'apprentissage\n",
    "for epoch in range(150):\n",
    "\n",
    "    # Permutation des données (remplacer par le chargement de données)\n",
    "    # Exemple : perm = np.random.permutation(N)\n",
    "    # Xtrain = Xtrain[perm, :]\n",
    "    # Ytrain = Ytrain[perm, :]\n",
    "\n",
    "    # Itération sur les mini-batchs\n",
    "    for j in range(N // Nbatch):\n",
    "        batch_indices = range(j * Nbatch, (j+1) * Nbatch)\n",
    "        X_batch = Xtrain[batch_indices, :]\n",
    "        Y_batch = Ytrain[batch_indices, :]\n",
    "\n",
    "        # Passage en avant (forward), calcul de la perte et rétropropagation (backward) avec autograd\n",
    "        outputs, Yhat = forward(params, X_batch)\n",
    "        loss, _ = loss_accuracy(Yhat, Y_batch)\n",
    "        loss.backward()  # Calcule automatiquement les gradients\n",
    "\n",
    "        # Utilisation des gradients pour mettre à jour les paramètres avec SGD\n",
    "        sgd(params, eta)\n",
    "\n",
    "    # Passage en avant sur les données d'entraînement, de test et calcul des performances\n",
    "    Yhat_train, _ = forward(params, Xtrain)\n",
    "    Yhat_test, _ = forward(params, Xtest)\n",
    "    train_loss, train_accuracy = loss_accuracy(Yhat_train, Ytrain)\n",
    "    test_loss, test_accuracy = loss_accuracy(Yhat_test, Ytest)\n",
    "\n",
    "    # Affichage des performances\n",
    "    title = f'Epoch {epoch}: Train Accuracy {train_accuracy:.1f}% (Loss {train_loss:.2f}), Test Accuracy {test_accuracy:.1f}% (Loss {test_loss:.2f})'\n",
    "    print(title)\n",
    "\n",
    "    # Ajout des performances à la liste\n",
    "    performance_metrics[0].append(train_accuracy)\n",
    "    performance_metrics[1].append(test_accuracy)\n",
    "    performance_metrics[2].append(train_loss)\n",
    "    performance_metrics[3].append(test_loss)\n",
    "\n",
    "# Affichage des courbes d'apprentissage\n",
    "fig = plt.figure()\n",
    "plt.plot(performance_metrics[0], label=\"Train Accuracy\")\n",
    "plt.plot(performance_metrics[1], label=\"Test Accuracy\")\n",
    "plt.plot(performance_metrics[2], label=\"Train Loss\")\n",
    "plt.plot(performance_metrics[3], label=\"Test Loss\")\n",
    "plt.legend()\n",
    "plt.show()\n"
   ]
  },
  {
   "cell_type": "markdown",
   "id": "19776cb2",
   "metadata": {},
   "source": [
    "# 2.3 Simplification du forward avec les couches torch.nn"
   ]
  },
  {
   "cell_type": "markdown",
   "id": "e2e70523",
   "metadata": {},
   "source": [
    "torch.nn est un module de PyTorch qui fournit des classes et des fonctions pour la création et la gestion de réseaux de neurones artificiels. \n",
    "\n",
    "Il s'agit d'une partie essentielle de PyTorch pour le développement de modèles d'apprentissage profond."
   ]
  },
  {
   "cell_type": "markdown",
   "id": "b2f69be7",
   "metadata": {},
   "source": [
    "Les fonctions init_params et forward seront supprimés et remplacés par une fonction init_model qui déclare l'architecture du modèle et la loss."
   ]
  },
  {
   "cell_type": "markdown",
   "id": "e8ba7dad",
   "metadata": {},
   "source": [
    "### La nouvelle fonction init_model(nx, nh, ny):"
   ]
  },
  {
   "cell_type": "code",
   "execution_count": 36,
   "id": "f0831181",
   "metadata": {},
   "outputs": [],
   "source": [
    "\n",
    "def init_model(nx, nh, ny):\n",
    "    # Déclaration de l'architecture du modèle\n",
    "    model = nn.Sequential(\n",
    "        nn.Linear(nx, nh),    # Couche linéaire de la couche d'entrée à la couche cachée\n",
    "        nn.Tanh(),           # Fonction d'activation Tanh après la première couche\n",
    "        nn.Linear(nh, ny),    # Couche linéaire de la couche cachée à la couche de sortie\n",
    "        nn.Softmax(dim=0)     # Fonction Softmax appliquée à la sortie\n",
    "    )\n",
    "\n",
    "    # Déclaration de la fonction de perte\n",
    "    loss = nn.CrossEntropyLoss()  # Entropie croisée utilisée comme fonction de perte\n",
    "\n",
    "    return model, loss\n"
   ]
  },
  {
   "cell_type": "markdown",
   "id": "fcf606b8",
   "metadata": {},
   "source": [
    "### La nouvelle fonction loss_accuracy(model, loss, X, Y):"
   ]
  },
  {
   "cell_type": "code",
   "execution_count": 37,
   "id": "b7a8965f",
   "metadata": {},
   "outputs": [],
   "source": [
    "def loss_accuracy(model, loss, X, Y):\n",
    "    \"\"\" Calcul de la perte (loss) en utilisant la fonction de perte (CrossEntropyLoss)\n",
    "    Applique la fonction softmax (déjà définie dans le modèle) sur la sortie du modèle, puis calcule la perte.\n",
    "    Retourne la perte (loss) et la précision (acc).\n",
    "    \"\"\"\n",
    "    # Passage avant avec le modèle\n",
    "    Yhat = model(X)\n",
    "\n",
    "    # Calcul de la perte avec la fonction de perte (CrossEntropyLoss)\n",
    "    L = loss(Yhat, Y)\n",
    "\n",
    "    # Trouve l'indice de la classe réelle pour chaque exemple dans Y\n",
    "    _, indsY = torch.max(Y, 1)\n",
    "    # Trouve l'indice de la classe prédite pour chaque exemple dans Yhat\n",
    "    _, indsYhat = torch.max(Yhat, 1)\n",
    "    # Calcule la précision en comparant les indices réels et prédits\n",
    "    acc = torch.sum(indsY == indsYhat).item() / len(Y)\n",
    "\n",
    "    # Retourne la perte (L) et la précision (acc)\n",
    "    return L, acc"
   ]
  },
  {
   "cell_type": "markdown",
   "id": "6069bfd7",
   "metadata": {},
   "source": [
    "### La nouvelle fonction sgd(params, grads, eta)  :"
   ]
  },
  {
   "cell_type": "code",
   "execution_count": 38,
   "id": "285a52c4",
   "metadata": {},
   "outputs": [],
   "source": [
    "def sgd(model, eta):\n",
    "    # Réinitialiser les gradients du modèle\n",
    "    model.zero_grad()\n",
    "\n",
    "    # Calculer les gradients en fonction de la perte actuelle\n",
    "    loss.backward()\n",
    "\n",
    "    # Mettre à jour les paramètres du modèle\n",
    "    with torch.no_grad():\n",
    "        for param in model.parameters():\n",
    "            param -= eta * param.grad\n",
    "\n",
    "    return model"
   ]
  },
  {
   "cell_type": "markdown",
   "id": "1f22b29d",
   "metadata": {},
   "source": [
    "# 2.4 Simplification de SGD avec torch.optim"
   ]
  },
  {
   "cell_type": "markdown",
   "id": "354866f9",
   "metadata": {},
   "source": [
    "torch.optim est un module de PyTorch qui contient divers optimiseurs couramment utilisés pour l'entraînement de modèles de réseaux de neurones. Ces optimiseurs implémentent différentes variantes de l'algorithme de descente de gradient stochastique (SGD) ainsi que d'autres algorithmes d'optimisation populaires."
   ]
  },
  {
   "cell_type": "markdown",
   "id": "bab36d30",
   "metadata": {},
   "source": [
    "La fonction sgd est supprimée.D'où, on fera un appel à optim.zero_grad() avant de faire le backward et à optim.step() après le backward."
   ]
  },
  {
   "cell_type": "code",
   "execution_count": 21,
   "id": "ffb944f5",
   "metadata": {},
   "outputs": [],
   "source": [
    "def init_model(nx, nh, ny, eta):\n",
    "    # Déclaration de l'architecture du modèle\n",
    "    model = nn.Sequential(\n",
    "        nn.Linear(nx, nh),    # Couche linéaire de la couche d'entrée à la couche cachée\n",
    "        nn.Tanh(),           # Fonction d'activation Tanh après la première couche\n",
    "        nn.Linear(nh, ny),    # Couche linéaire de la couche cachée à la couche de sortie\n",
    "        nn.Softmax(dim=1)     # Fonction Softmax appliquée à la sortie\n",
    "    )\n",
    "\n",
    "    # Déclaration de la fonction de perte\n",
    "    loss = nn.CrossEntropyLoss()  # Entropie croisée utilisée comme fonction de perte\n",
    "\n",
    "    # Initialisation de l'optimiseur (SGD) avec le taux d'apprentissage (learning rate)\n",
    "    optimizer = optim.SGD(model.parameters(), lr=eta)\n",
    "\n",
    "    return model, loss, optimizer"
   ]
  },
  {
   "cell_type": "markdown",
   "id": "b7e02ff2",
   "metadata": {},
   "source": [
    "Dans cette version, la fonction init_model nous retourne également l'optimiseur initialisé avec le learning rate eta."
   ]
  },
  {
   "cell_type": "markdown",
   "id": "20013e49",
   "metadata": {},
   "source": [
    "## Application à MNIST"
   ]
  },
  {
   "cell_type": "markdown",
   "id": "407005ec",
   "metadata": {},
   "source": [
    "Voici une implémentation d'un réseau de neurones pour la classification des chiffres manuscrits du jeu de données MNIST.\n",
    "\n",
    "La boucle d'entraînement utilise ces composants pour ajuster le modèle aux données d'entraînement, tandis que l'évaluation sur l'ensemble de test est effectuée après chaque époque. Les courbes d'apprentissage, représentant la précision et la perte au fil des époques, sont ensuite affichées pour évaluer la performance du modèle."
   ]
  },
  {
   "cell_type": "code",
   "execution_count": 25,
   "id": "7d5d8aa4",
   "metadata": {},
   "outputs": [
    {
     "name": "stdout",
     "output_type": "stream",
     "text": [
      "Epoch 1/5, Loss: 2.1462, Accuracy: 59.23%\n",
      "Epoch 2/5, Loss: 1.8654, Accuracy: 73.35%\n",
      "Epoch 3/5, Loss: 1.7520, Accuracy: 79.54%\n",
      "Epoch 4/5, Loss: 1.7084, Accuracy: 81.16%\n",
      "Epoch 5/5, Loss: 1.6862, Accuracy: 81.72%\n"
     ]
    },
    {
     "data": {
      "image/png": "[encoded data removed]",
      "text/plain": [
       "<Figure size 640x480 with 2 Axes>"
      ]
     },
     "metadata": {},
     "output_type": "display_data"
    }
   ],
   "source": [
    "# Fonction pour initialiser le modèle, la perte et l'optimiseur\n",
    "def init_model(nx, nh, ny, eta):\n",
    "    model = nn.Sequential(\n",
    "        nn.Linear(nx, nh),\n",
    "        nn.Tanh(),\n",
    "        nn.Linear(nh, ny),\n",
    "        nn.Softmax(dim=1)\n",
    "    )\n",
    "\n",
    "    loss_fn = nn.CrossEntropyLoss()\n",
    "    optimizer = optim.SGD(model.parameters(), lr=eta)\n",
    "\n",
    "    return model, loss_fn, optimizer\n",
    "\n",
    "# Fonction pour calculer la perte et la précision\n",
    "def loss_accuracy(model, loss, X, Y):\n",
    "    Yhat = model(X)\n",
    "    L = loss(Yhat, Y.squeeze().long())  # Squeeze pour enlever la dimension supplémentaire et long() pour convertir en int\n",
    "    _, indsYhat = torch.max(Yhat, 1)\n",
    "    acc = torch.sum(Y.squeeze().long() == indsYhat).item() / len(Y)\n",
    "\n",
    "    return L, acc\n",
    "\n",
    "\n",
    "# Chargement des données MNIST\n",
    "transform = transforms.Compose([transforms.ToTensor()])\n",
    "mnist_dataset = MNIST(root='./data', train=True, download=True, transform=transform)\n",
    "train_size = int(0.8 * len(mnist_dataset))\n",
    "test_size = len(mnist_dataset) - train_size\n",
    "train_dataset, test_dataset = random_split(mnist_dataset, [train_size, test_size])\n",
    "\n",
    "# Chargement des données avec des DataLoader\n",
    "train_loader = DataLoader(dataset=train_dataset, batch_size=100, shuffle=True)\n",
    "test_loader = DataLoader(dataset=test_dataset, batch_size=100, shuffle=False)\n",
    "\n",
    "# Paramètres d'entraînement\n",
    "nx = 28 * 28  # Dimension de l'image MNIST\n",
    "nh = 100\n",
    "ny = 10  # Nombre de classes dans MNIST (0-9)\n",
    "eta = 0.03\n",
    "\n",
    "# Initialisation du modèle, de la perte et de l'optimiseur\n",
    "model, loss_fn, optimizer = init_model(nx, nh, ny, eta)\n",
    "\n",
    "# Listes pour stocker les courbes d'apprentissage\n",
    "curves = [[], []]\n",
    "\n",
    "# Entraînement\n",
    "for epoch in range(5):  # Choisissez le nombre d'époques souhaité\n",
    "    for batch in train_loader:\n",
    "        X, Y = batch\n",
    "\n",
    "        # Reshape X pour s'adapter au modèle\n",
    "        X = X.view(-1, 28 * 28)\n",
    "\n",
    "        # Forward pass\n",
    "        Yhat = model(X)\n",
    "\n",
    "        # Calcul de la perte et de la précision\n",
    "        loss, _ = loss_accuracy(model, loss_fn, X, Y)\n",
    "\n",
    "        # Rétropropagation\n",
    "        optimizer.zero_grad()\n",
    "        loss.backward()\n",
    "\n",
    "        # Optimisation\n",
    "        optimizer.step()\n",
    "\n",
    "    # Évaluation sur l'ensemble de test après chaque époque\n",
    "    total_loss, total_acc = 0, 0\n",
    "    with torch.no_grad():\n",
    "        for batch in test_loader:\n",
    "            X, Y = batch\n",
    "\n",
    "            # Reshape X pour s'adapter au modèle\n",
    "            X = X.view(-1, 28 * 28)\n",
    "\n",
    "            loss, acc = loss_accuracy(model, loss_fn, X, Y)\n",
    "            total_loss += loss.item()\n",
    "            total_acc += acc\n",
    "\n",
    "    avg_loss = total_loss / len(test_loader)\n",
    "    avg_acc = total_acc / len(test_loader)\n",
    "\n",
    "    # Affichage des résultats d'évaluation\n",
    "    print(f'Epoch {epoch+1}/{5}, Loss: {avg_loss:.4f}, Accuracy: {avg_acc:.2%}')\n",
    "\n",
    "    # Ajout des résultats aux courbes\n",
    "    curves[0].append(avg_acc * 100)\n",
    "    curves[1].append(avg_loss)\n",
    "fig, ax1 = plt.subplots()\n",
    "\n",
    "color = 'tab:red'\n",
    "ax1.set_xlabel('Epoch')\n",
    "ax1.set_ylabel('Accuracy', color=color)\n",
    "ax1.plot(curves[0], label=\"Accuracy\", color=color)\n",
    "ax1.tick_params(axis='y', labelcolor=color)\n",
    "\n",
    "ax2 = ax1.twinx()\n",
    "color = 'tab:blue'\n",
    "ax2.set_ylabel('Loss', color=color)\n",
    "ax2.plot(curves[1], label=\"Loss\", color=color)\n",
    "ax2.tick_params(axis='y', labelcolor=color)\n",
    "\n",
    "fig.tight_layout()\n",
    "plt.title('MNIST Training Curves')\n",
    "plt.show()\n"
   ]
  }
 ],
 "metadata": {
  "kernelspec": {
   "display_name": "Python 3 (ipykernel)",
   "language": "python",
   "name": "python3"
  },
  "language_info": {
   "codemirror_mode": {
    "name": "ipython",
    "version": 3
   },
   "file_extension": ".py",
   "mimetype": "text/x-python",
   "name": "python",
   "nbconvert_exporter": "python",
   "pygments_lexer": "ipython3",
   "version": "3.9.13"
  }
 },
 "nbformat": 4,
 "nbformat_minor": 5
}
